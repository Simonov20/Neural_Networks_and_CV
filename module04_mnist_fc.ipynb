{
  "nbformat": 4,
  "nbformat_minor": 0,
  "metadata": {
    "colab": {
      "name": "Lesson 5 Digits Recognition Video.ipynb",
      "version": "0.3.2",
      "provenance": [],
      "collapsed_sections": []
    },
    "language_info": {
      "codemirror_mode": {
        "name": "ipython",
        "version": 3
      },
      "file_extension": ".py",
      "mimetype": "text/x-python",
      "name": "python",
      "nbconvert_exporter": "python",
      "pygments_lexer": "ipython3",
      "version": "3.6.8"
    },
    "kernelspec": {
      "display_name": "Python 3",
      "language": "python",
      "name": "python3"
    },
    "accelerator": "GPU"
  },
  "cells": [
    {
      "cell_type": "code",
      "metadata": {
        "colab_type": "code",
        "id": "DWr6cvb9pS3J",
        "colab": {}
      },
      "source": [
        "import torch\n",
        "import random\n",
        "import numpy as np\n",
        "\n",
        "random.seed(0)\n",
        "np.random.seed(0)\n",
        "torch.manual_seed(0)\n",
        "torch.cuda.manual_seed(0)\n",
        "torch.backends.cudnn.deterministic = True # может повлиять на производительность GPU"
      ],
      "execution_count": 0,
      "outputs": []
    },
    {
      "cell_type": "code",
      "metadata": {
        "colab_type": "code",
        "id": "MqGQWTDIpS3R",
        "colab": {}
      },
      "source": [
        "import torchvision.datasets\n",
        "MNIST_train = torchvision.datasets.MNIST('./', download=True, train=True)\n",
        "MNIST_test = torchvision.datasets.MNIST('./', download=True, train=False)"
      ],
      "execution_count": 0,
      "outputs": []
    },
    {
      "cell_type": "code",
      "metadata": {
        "colab_type": "code",
        "id": "vv_Lz7PYpS3U",
        "colab": {
          "base_uri": "https://localhost:8080/",
          "height": 159
        },
        "outputId": "a911250e-7b1c-46de-c558-8aae2be69c34"
      },
      "source": [
        "X_train = MNIST_train.train_data\n",
        "y_train = MNIST_train.train_labels\n",
        "X_test = MNIST_test.test_data\n",
        "y_test = MNIST_test.test_labels"
      ],
      "execution_count": 45,
      "outputs": [
        {
          "output_type": "stream",
          "text": [
            "/usr/local/lib/python3.6/dist-packages/torchvision/datasets/mnist.py:53: UserWarning: train_data has been renamed data\n",
            "  warnings.warn(\"train_data has been renamed data\")\n",
            "/usr/local/lib/python3.6/dist-packages/torchvision/datasets/mnist.py:43: UserWarning: train_labels has been renamed targets\n",
            "  warnings.warn(\"train_labels has been renamed targets\")\n",
            "/usr/local/lib/python3.6/dist-packages/torchvision/datasets/mnist.py:58: UserWarning: test_data has been renamed data\n",
            "  warnings.warn(\"test_data has been renamed data\")\n",
            "/usr/local/lib/python3.6/dist-packages/torchvision/datasets/mnist.py:48: UserWarning: test_labels has been renamed targets\n",
            "  warnings.warn(\"test_labels has been renamed targets\")\n"
          ],
          "name": "stderr"
        }
      ]
    },
    {
      "cell_type": "code",
      "metadata": {
        "colab_type": "code",
        "id": "hMhsAedlrQF5",
        "colab": {}
      },
      "source": [
        "x=X_train"
      ],
      "execution_count": 0,
      "outputs": []
    },
    {
      "cell_type": "code",
      "metadata": {
        "id": "NBRw69vZwwIJ",
        "colab_type": "code",
        "colab": {}
      },
      "source": [
        "#x.shape # torch.Size([60000, 28, 28])\n",
        "#x.reshape(-1).shape # torch.Size([47040000])\n",
        "#x.reshape(-1,9).shape # shape '[-1, 9]' is invalid for input of size 47040000\n",
        "#x.reshape(len(x[1]), len(x), len(x[2])).shape # torch.Size([28, 60000, 28])\n",
        "#x.reshape(-1,1,1).shape # torch.Size([47040000, 1, 1])\n",
        "# x.reshape(-1,14,32,7).shape # (1500, 14, 32, 7)\n",
        "#x.reshape(-1,6000).shape # (784, 6000)"
      ],
      "execution_count": 0,
      "outputs": []
    },
    {
      "cell_type": "code",
      "metadata": {
        "colab_type": "code",
        "id": "_yTaVOrPvap6",
        "colab": {}
      },
      "source": [
        "# Переводим в вещественные числа\n",
        "X_train = X_train.float()\n",
        "X_test = X_test.float()"
      ],
      "execution_count": 0,
      "outputs": []
    },
    {
      "cell_type": "code",
      "metadata": {
        "colab_type": "code",
        "id": "_gfupg4kpS3X",
        "outputId": "0d0ea910-693e-4143-c42f-032cd805821c",
        "colab": {
          "base_uri": "https://localhost:8080/",
          "height": 35
        }
      },
      "source": [
        "X_train.shape, X_test.shape #картинки размера 28 на 28"
      ],
      "execution_count": 49,
      "outputs": [
        {
          "output_type": "execute_result",
          "data": {
            "text/plain": [
              "(torch.Size([60000, 28, 28]), torch.Size([10000, 28, 28]))"
            ]
          },
          "metadata": {
            "tags": []
          },
          "execution_count": 49
        }
      ]
    },
    {
      "cell_type": "code",
      "metadata": {
        "colab_type": "code",
        "id": "zEC1RXBEz_SW",
        "outputId": "3a634034-596d-4cb9-adab-82ee878638b4",
        "colab": {
          "base_uri": "https://localhost:8080/",
          "height": 35
        }
      },
      "source": [
        "y_train.shape, y_test.shape"
      ],
      "execution_count": 50,
      "outputs": [
        {
          "output_type": "execute_result",
          "data": {
            "text/plain": [
              "(torch.Size([60000]), torch.Size([10000]))"
            ]
          },
          "metadata": {
            "tags": []
          },
          "execution_count": 50
        }
      ]
    },
    {
      "cell_type": "code",
      "metadata": {
        "colab_type": "code",
        "id": "Z1tFXMwJpS3e",
        "outputId": "41904c5f-1123-4515-8cde-0e19b2e552b6",
        "colab": {
          "base_uri": "https://localhost:8080/",
          "height": 287
        }
      },
      "source": [
        "import matplotlib.pyplot as plt\n",
        "plt.imshow(X_train[1, :, :])\n",
        "plt.show()\n",
        "print(y_train[1])"
      ],
      "execution_count": 51,
      "outputs": [
        {
          "output_type": "display_data",
          "data": {
            "image/png": "[encoded data removed]",
            "text/plain": [
              "<Figure size 432x288 with 1 Axes>"
            ]
          },
          "metadata": {
            "tags": []
          }
        },
        {
          "output_type": "stream",
          "text": [
            "tensor(0)\n"
          ],
          "name": "stdout"
        }
      ]
    },
    {
      "cell_type": "code",
      "metadata": {
        "colab_type": "code",
        "id": "IUZgNg7zpS3j",
        "colab": {}
      },
      "source": [
        "# тензор трехмерный, мы хотим получить двумерный\n",
        "X_train = X_train.reshape([-1, 28 * 28])\n",
        "X_test = X_test.reshape([-1, 28 * 28])"
      ],
      "execution_count": 0,
      "outputs": []
    },
    {
      "cell_type": "code",
      "metadata": {
        "colab_type": "code",
        "id": "k7l65slppS3l",
        "colab": {}
      },
      "source": [
        "class MNISTNet(torch.nn.Module):\n",
        "    def __init__(self, n_hidden_neurons): # n_hidden_neurons - задаем сколько требуется информации в скрытом слов\n",
        "        super(MNISTNet, self).__init__()\n",
        "        self.fc1 = torch.nn.Linear(28 * 28, n_hidden_neurons) # 28*28 - столько данных подается на вход от одного объекта\n",
        "        self.ac1 = torch.nn.Sigmoid()\n",
        "        self.fc2 = torch.nn.Linear(n_hidden_neurons, 10) # на выходе 10 классов, так как распознаем цифры от 0 до 9.\n",
        "    \n",
        "    def forward(self, x):\n",
        "        x = self.fc1(x)\n",
        "        x = self.ac1(x)\n",
        "        x = self.fc2(x)\n",
        "        return x\n",
        "    \n",
        "mnist_net = MNISTNet(100)"
      ],
      "execution_count": 0,
      "outputs": []
    },
    {
      "cell_type": "code",
      "metadata": {
        "colab_type": "code",
        "id": "FJp7t3dR0pC5",
        "colab": {
          "base_uri": "https://localhost:8080/",
          "height": 35
        },
        "outputId": "b2a7aca6-addd-42c4-bf03-3a4e30d566e3"
      },
      "source": [
        "# проверить перед этим Runtime\n",
        "torch.cuda.is_available()"
      ],
      "execution_count": 67,
      "outputs": [
        {
          "output_type": "execute_result",
          "data": {
            "text/plain": [
              "True"
            ]
          },
          "metadata": {
            "tags": []
          },
          "execution_count": 67
        }
      ]
    },
    {
      "cell_type": "code",
      "metadata": {
        "colab_type": "code",
        "id": "ShQDv_w-0rz8",
        "colab": {
          "base_uri": "https://localhost:8080/",
          "height": 319
        },
        "outputId": "5d3026b7-fe51-4e24-b94a-5bacabcd4b00"
      },
      "source": [
        "# посмотреть на нашу видеокатру и проводятся ли на данный момент на ней работы \n",
        "!nvidia-smi"
      ],
      "execution_count": 69,
      "outputs": [
        {
          "output_type": "stream",
          "text": [
            "Thu Jul 11 18:46:50 2019       \n",
            "+-----------------------------------------------------------------------------+\n",
            "| NVIDIA-SMI 418.67       Driver Version: 410.79       CUDA Version: 10.0     |\n",
            "|-------------------------------+----------------------+----------------------+\n",
            "| GPU  Name        Persistence-M| Bus-Id        Disp.A | Volatile Uncorr. ECC |\n",
            "| Fan  Temp  Perf  Pwr:Usage/Cap|         Memory-Usage | GPU-Util  Compute M. |\n",
            "|===============================+======================+======================|\n",
            "|   0  Tesla K80           Off  | 00000000:00:04.0 Off |                    0 |\n",
            "| N/A   27C    P8    26W / 149W |     11MiB / 11441MiB |      0%      Default |\n",
            "+-------------------------------+----------------------+----------------------+\n",
            "                                                                               \n",
            "+-----------------------------------------------------------------------------+\n",
            "| Processes:                                                       GPU Memory |\n",
            "|  GPU       PID   Type   Process name                             Usage      |\n",
            "|=============================================================================|\n",
            "|  No running processes found                                                 |\n",
            "+-----------------------------------------------------------------------------+\n"
          ],
          "name": "stdout"
        }
      ]
    },
    {
      "cell_type": "code",
      "metadata": {
        "id": "P1hApRInwmHr",
        "colab_type": "code",
        "colab": {}
      },
      "source": [
        ""
      ],
      "execution_count": 0,
      "outputs": []
    },
    {
      "cell_type": "code",
      "metadata": {
        "colab_type": "code",
        "id": "iUHy-780po9d",
        "colab": {
          "base_uri": "https://localhost:8080/",
          "height": 1000
        },
        "outputId": "943e0d92-828a-4b3c-9e7d-860f614616f0"
      },
      "source": [
        "device = torch.device('cuda:0' if torch.cuda.is_available() else 'cpu') # перекладываем вычисления на девайс (видюху или на проц)\n",
        "mnist_net = mnist_net.to(device) # это работает, так как torch.nn.Module имеет такую функцию\n",
        "#list(mnist_net.parameters()) # параметры сети: веса и смещения(bias)"
      ],
      "execution_count": 83,
      "outputs": [
        {
          "output_type": "execute_result",
          "data": {
            "text/plain": [
              "[Parameter containing:\n",
              " tensor([[-0.0156, -0.0187,  0.0242,  ...,  0.0102,  0.0140,  0.0170],\n",
              "         [ 0.0229,  0.0309,  0.0278,  ..., -0.0140,  0.0160, -0.0058],\n",
              "         [ 0.0305,  0.0216,  0.0125,  ...,  0.0016, -0.0120,  0.0298],\n",
              "         ...,\n",
              "         [ 0.0180, -0.0035, -0.0121,  ...,  0.0290, -0.0176, -0.0311],\n",
              "         [ 0.0191,  0.0085,  0.0069,  ..., -0.0260,  0.0010, -0.0045],\n",
              "         [ 0.0287,  0.0234,  0.0274,  ...,  0.0068, -0.0129, -0.0178]],\n",
              "        device='cuda:0', requires_grad=True), Parameter containing:\n",
              " tensor([ 0.0345, -0.0342,  0.0250, -0.0227,  0.0314, -0.0053,  0.0084,  0.0011,\n",
              "         -0.0304,  0.0260, -0.0221,  0.0055,  0.0316, -0.0108,  0.0195, -0.0115,\n",
              "         -0.0278,  0.0018,  0.0259, -0.0244,  0.0313,  0.0251, -0.0250,  0.0191,\n",
              "          0.0102,  0.0056, -0.0165,  0.0177,  0.0042,  0.0146,  0.0214,  0.0275,\n",
              "          0.0267, -0.0083, -0.0013,  0.0151,  0.0071,  0.0179,  0.0196,  0.0071,\n",
              "          0.0265, -0.0049, -0.0122, -0.0205,  0.0162, -0.0056,  0.0235, -0.0097,\n",
              "         -0.0317,  0.0320,  0.0318, -0.0213, -0.0094,  0.0160,  0.0320,  0.0053,\n",
              "         -0.0152,  0.0173,  0.0337, -0.0313, -0.0097,  0.0194, -0.0310, -0.0330,\n",
              "          0.0018, -0.0055,  0.0048,  0.0058,  0.0255, -0.0107,  0.0257, -0.0350,\n",
              "         -0.0003, -0.0071, -0.0265, -0.0350, -0.0012,  0.0042,  0.0188,  0.0069,\n",
              "         -0.0282, -0.0211, -0.0014, -0.0139, -0.0020,  0.0051, -0.0344, -0.0013,\n",
              "          0.0296,  0.0062, -0.0091,  0.0309, -0.0332, -0.0315, -0.0167,  0.0153,\n",
              "          0.0174,  0.0046, -0.0080, -0.0354], device='cuda:0',\n",
              "        requires_grad=True), Parameter containing:\n",
              " tensor([[-2.7133e-03,  2.5173e-02, -1.8825e-02, -4.5030e-02,  7.1467e-02,\n",
              "           4.9079e-02,  8.4253e-02,  5.0502e-02,  3.6302e-02, -5.2475e-03,\n",
              "          -8.6426e-03,  8.2879e-02,  3.4817e-02, -9.3469e-03, -4.6176e-02,\n",
              "           9.6045e-02, -4.2838e-02, -7.0815e-02,  8.4903e-02,  3.6023e-02,\n",
              "          -4.6147e-03,  8.3604e-02,  7.9711e-02,  9.7635e-02, -4.4340e-02,\n",
              "          -5.2252e-02, -1.7587e-02,  6.2232e-02, -8.4552e-03,  2.4016e-02,\n",
              "          -3.9471e-02, -7.8627e-02, -3.0198e-02,  7.3234e-02, -1.2740e-02,\n",
              "           3.7954e-02,  4.4992e-02,  2.1658e-02,  2.5183e-02, -8.3745e-02,\n",
              "           7.5793e-02,  8.7498e-02, -9.6138e-03,  7.8177e-02, -7.7973e-02,\n",
              "           2.9866e-02, -1.8070e-02, -7.8088e-02,  1.5584e-02,  8.5600e-02,\n",
              "           5.9064e-02,  7.3208e-02, -1.8241e-02, -4.4506e-02, -5.8732e-02,\n",
              "          -9.7600e-02, -2.6041e-02, -1.6584e-02,  4.0008e-02,  7.9423e-02,\n",
              "           1.2285e-02,  7.3020e-02, -2.6911e-02, -5.7592e-02, -2.6789e-02,\n",
              "          -9.1612e-02,  4.7527e-02,  4.0618e-03, -1.4176e-02,  6.9130e-02,\n",
              "           5.6395e-02, -9.7897e-02,  1.9375e-03,  3.8047e-03, -7.7921e-02,\n",
              "          -5.4016e-03,  7.1899e-02, -1.1200e-02,  7.0155e-02, -8.5018e-03,\n",
              "           1.9817e-02, -5.6205e-02,  2.4249e-02,  3.6507e-02,  5.7777e-02,\n",
              "          -3.6190e-03,  4.2710e-02, -3.8471e-02,  6.5809e-02, -8.6535e-02,\n",
              "           7.6418e-02, -9.6740e-02,  5.6821e-02, -5.5865e-02,  8.7831e-02,\n",
              "           3.0342e-02,  7.6725e-02,  3.1425e-02, -5.0177e-02,  8.3233e-02],\n",
              "         [-2.6149e-02,  6.2707e-02,  9.1171e-02,  6.5358e-02,  7.4123e-02,\n",
              "           2.8455e-02,  6.7972e-02, -4.0079e-02,  7.0963e-02,  7.3766e-02,\n",
              "           5.7647e-03, -4.1740e-02,  8.7599e-02, -8.0732e-02,  7.7994e-02,\n",
              "          -3.1905e-03, -9.6688e-02,  5.5006e-02,  5.1764e-02,  3.1227e-02,\n",
              "           6.4561e-02, -5.9795e-04, -7.4224e-02, -6.2282e-02, -8.8465e-02,\n",
              "          -8.7651e-02,  8.4329e-02, -8.0136e-02,  2.3503e-02,  8.2433e-02,\n",
              "           6.5548e-02, -2.1132e-02,  8.5024e-02,  9.1297e-02,  1.6304e-02,\n",
              "           9.1957e-02,  4.9079e-02,  3.6560e-02, -4.3247e-03,  4.1403e-02,\n",
              "           8.4819e-02,  4.9080e-02,  6.7853e-02,  6.1217e-02, -5.4806e-02,\n",
              "           7.3848e-02, -5.8159e-02, -2.5970e-02, -9.1446e-02,  2.8176e-02,\n",
              "          -8.8300e-02, -7.0754e-02,  8.0520e-02, -7.8348e-02, -7.7151e-02,\n",
              "           4.2027e-02,  5.5868e-02,  3.9835e-02,  2.7884e-02, -4.7884e-03,\n",
              "          -4.6966e-02, -6.3954e-02,  7.0644e-02,  6.7954e-02,  5.9058e-02,\n",
              "           6.0253e-02, -8.2570e-02, -8.8366e-02, -3.9987e-02,  2.1516e-02,\n",
              "          -5.1682e-02,  3.7346e-02, -3.3195e-02,  3.2788e-02, -9.3968e-03,\n",
              "          -3.2975e-02, -7.4325e-02, -6.4561e-02, -4.1093e-02,  8.9843e-02,\n",
              "           2.4568e-03,  5.3484e-02,  8.5371e-02, -5.2380e-02, -4.6380e-02,\n",
              "           2.3130e-02, -9.3447e-02,  9.3283e-02,  7.2432e-02,  8.9268e-02,\n",
              "           6.7346e-02, -3.2455e-02, -7.8589e-02, -4.5761e-02,  4.2460e-02,\n",
              "           5.1914e-02,  1.1824e-02, -8.1247e-02, -1.9550e-02,  1.7294e-02],\n",
              "         [-2.8832e-02,  3.0741e-02,  5.5577e-02,  2.3575e-02, -5.5945e-02,\n",
              "           7.3440e-02, -6.6458e-02, -2.5306e-02, -4.2415e-02, -2.8204e-02,\n",
              "          -8.1130e-02,  6.9133e-02, -3.2734e-02,  9.6884e-03, -7.3465e-02,\n",
              "           1.6917e-02, -9.0004e-02,  7.4005e-02, -7.1075e-03,  5.6582e-02,\n",
              "           7.1082e-02, -6.8140e-02,  4.2691e-02, -9.7701e-03, -7.3734e-02,\n",
              "           3.5611e-02,  4.9123e-02, -9.3736e-02,  5.7180e-02, -5.6101e-02,\n",
              "           9.1446e-02,  9.3121e-02, -8.5726e-02, -3.6165e-02, -1.4884e-02,\n",
              "           1.5843e-02,  6.6006e-02,  8.4844e-02, -1.7835e-02,  3.0997e-03,\n",
              "          -8.4002e-02,  9.3024e-02, -5.6621e-02,  2.4800e-02,  5.8748e-04,\n",
              "           1.5156e-02,  3.8623e-02,  7.5899e-02, -5.8063e-02,  2.5319e-02,\n",
              "           6.1822e-02,  7.0993e-02, -1.1592e-02, -7.5015e-02,  7.0925e-02,\n",
              "          -5.2094e-02, -7.0067e-02,  2.0868e-02,  8.0848e-02,  9.2330e-02,\n",
              "           6.3480e-02, -3.3891e-02, -8.7707e-02, -9.9500e-02, -6.5803e-02,\n",
              "           3.2259e-02, -9.2652e-02, -1.4398e-02, -9.2468e-02, -8.6131e-02,\n",
              "          -3.0519e-02,  7.8896e-03, -3.8213e-02, -3.1289e-02, -2.3449e-02,\n",
              "           4.8925e-02,  6.4433e-02,  6.8215e-02,  2.2530e-03, -8.9826e-02,\n",
              "           7.8405e-02,  2.6716e-02, -8.1382e-02, -5.4305e-02, -1.7571e-02,\n",
              "          -4.8595e-02,  4.2243e-02, -8.6271e-02,  1.3916e-02, -6.5945e-02,\n",
              "           2.6657e-02,  4.0732e-02, -5.9953e-02, -6.3455e-02,  3.9320e-02,\n",
              "          -7.6082e-02, -1.3549e-03, -2.0435e-02,  2.7629e-03, -2.8651e-02],\n",
              "         [-6.5348e-02, -8.1530e-02,  3.6438e-02, -1.5370e-02,  2.0305e-02,\n",
              "          -8.6454e-02,  2.5153e-02,  1.7219e-02,  8.7838e-02,  2.9922e-02,\n",
              "           5.0500e-02,  4.2591e-02, -7.9622e-02,  8.5215e-02, -8.2123e-02,\n",
              "          -9.0302e-02,  2.1903e-02,  9.1029e-02, -3.4790e-02, -7.8499e-02,\n",
              "          -8.8076e-02,  4.5357e-02, -2.3734e-02, -5.1056e-03,  2.3349e-02,\n",
              "           4.5206e-04, -2.2423e-02, -2.4930e-02, -6.5137e-02, -2.3604e-03,\n",
              "           9.9376e-02, -5.9887e-02, -2.2859e-02, -7.7645e-02,  1.0498e-02,\n",
              "           8.9442e-02, -8.3212e-02, -7.1013e-02, -8.8627e-02, -4.9291e-02,\n",
              "           6.5820e-02, -2.7523e-02,  5.1036e-02,  4.8325e-02, -6.2672e-03,\n",
              "          -9.6680e-02, -2.6678e-02,  4.9129e-02, -3.4464e-03,  4.7038e-02,\n",
              "          -7.8124e-02,  8.7702e-02,  7.1761e-02, -2.6931e-02, -6.8562e-02,\n",
              "          -9.7706e-03,  8.6490e-02,  7.2831e-03,  4.2313e-02,  6.7221e-02,\n",
              "           3.4111e-02,  9.1950e-02, -4.2923e-02,  1.7552e-02, -4.6786e-02,\n",
              "           2.8935e-02,  3.6993e-02,  6.6814e-02, -4.9031e-02, -8.4665e-02,\n",
              "          -7.9200e-02, -5.4527e-02, -9.1253e-02,  6.6805e-02, -8.4894e-02,\n",
              "          -7.8747e-02,  6.1973e-02, -1.7362e-03,  1.0534e-02,  7.5349e-02,\n",
              "          -7.5529e-02, -7.3224e-02, -4.7098e-02, -4.1390e-03,  4.7448e-02,\n",
              "          -1.3100e-02, -3.8936e-02, -5.0188e-02, -9.1054e-03,  5.7143e-02,\n",
              "          -4.5676e-02, -1.9001e-02,  9.8852e-02, -5.9284e-03, -2.8057e-02,\n",
              "           1.4881e-02, -4.3422e-02,  3.7186e-03, -1.8246e-02, -7.0379e-02],\n",
              "         [ 6.1495e-03, -7.5428e-02, -9.1054e-02,  8.7410e-02,  5.1389e-02,\n",
              "           7.1817e-02,  1.6884e-02, -1.4765e-02, -7.9755e-02,  3.8852e-02,\n",
              "           3.8653e-02,  2.1712e-02, -3.1963e-02, -7.7744e-02, -8.4326e-03,\n",
              "          -6.2193e-02,  9.1424e-02, -2.0253e-02,  8.1299e-04,  8.3571e-02,\n",
              "           9.6553e-02,  7.9366e-02, -7.3732e-02,  5.7197e-02,  3.7757e-02,\n",
              "           1.6843e-02, -1.2811e-02, -8.7974e-02, -5.4145e-03,  8.1260e-02,\n",
              "           5.5955e-02,  7.1857e-02,  5.6302e-02, -3.1216e-02,  5.7130e-02,\n",
              "          -1.4540e-02, -3.8598e-02, -9.2074e-02, -2.6405e-02,  1.9646e-02,\n",
              "          -6.1546e-03,  6.8043e-02,  5.4125e-02, -8.9786e-02, -9.5751e-02,\n",
              "          -2.6653e-02, -2.0139e-02,  8.3619e-02, -4.2867e-02, -5.7481e-03,\n",
              "          -1.4923e-02,  4.5352e-02, -4.9241e-02, -2.8335e-02,  3.0578e-03,\n",
              "           9.6943e-02, -2.2877e-02,  7.3882e-02, -2.1143e-02, -3.4216e-03,\n",
              "          -5.0118e-02,  8.5603e-02, -9.4583e-03, -7.7327e-02, -9.6237e-02,\n",
              "           1.5491e-03, -2.5757e-02,  8.5697e-02,  8.2422e-02,  8.6271e-02,\n",
              "          -1.0270e-03,  7.3324e-02,  5.4503e-02, -5.0886e-02,  8.1925e-03,\n",
              "           4.9565e-02, -2.3405e-02, -1.2147e-02, -2.9972e-02, -8.9479e-02,\n",
              "           5.1314e-02,  1.3945e-02,  8.6854e-02, -1.2835e-02, -3.0927e-02,\n",
              "           2.8650e-02, -1.6776e-02,  4.8569e-02, -7.2739e-02, -2.7058e-02,\n",
              "           4.6540e-02,  8.9236e-02, -9.0248e-02,  8.8742e-03,  3.1828e-02,\n",
              "          -2.9359e-02, -3.2959e-02, -6.1337e-02,  6.5698e-02, -9.1493e-02],\n",
              "         [ 1.2695e-02, -5.6160e-02,  3.5783e-02,  6.8231e-02, -3.6183e-02,\n",
              "          -8.3685e-02,  4.5345e-02, -7.1409e-02,  1.7344e-02, -8.5511e-02,\n",
              "           1.9627e-02, -3.8270e-02, -8.5825e-02, -8.3837e-02,  2.1000e-02,\n",
              "           8.9877e-02,  7.7718e-02, -2.7251e-02, -3.4113e-02, -6.5428e-02,\n",
              "           1.1859e-02,  3.1840e-02,  8.7125e-02,  8.6313e-02, -5.5402e-02,\n",
              "           5.3616e-02,  4.8598e-02,  1.1685e-02,  5.3704e-02, -6.0411e-02,\n",
              "           3.2997e-02, -1.5052e-02,  1.3024e-02, -6.5078e-02, -7.2995e-02,\n",
              "           6.6041e-02,  5.1125e-02,  9.3841e-02,  3.5725e-02, -3.1252e-02,\n",
              "          -5.0696e-02, -6.1458e-02, -1.1415e-02,  4.7823e-02, -3.7934e-02,\n",
              "          -5.4712e-02,  6.2631e-02,  8.2163e-02, -1.7394e-02,  9.3121e-02,\n",
              "           4.7689e-02, -3.2602e-02,  7.7191e-02,  9.2126e-02,  5.2167e-02,\n",
              "           8.7393e-02,  4.3140e-02,  6.3790e-02, -5.0347e-02,  3.1664e-02,\n",
              "           5.7222e-02,  4.4184e-02, -1.4614e-03,  9.1038e-02, -6.1029e-02,\n",
              "          -8.6117e-03, -4.9993e-02,  7.8999e-02, -8.2927e-02, -3.5681e-03,\n",
              "           1.2642e-02,  4.0529e-02, -6.8391e-02,  9.6953e-03, -6.3448e-03,\n",
              "          -2.6138e-02, -4.5887e-02,  5.6138e-02,  1.5210e-02, -6.8008e-02,\n",
              "          -4.1626e-02, -9.4409e-02, -5.3056e-02,  9.7889e-02,  5.1696e-02,\n",
              "           7.5462e-02,  2.9641e-02,  5.0265e-02, -6.4655e-02, -2.2945e-02,\n",
              "           8.2393e-02, -9.1814e-02,  7.9176e-02,  5.3868e-02,  5.2906e-02,\n",
              "           1.3000e-02, -3.3398e-02, -6.0519e-02, -4.1710e-02,  3.1589e-02],\n",
              "         [-8.3876e-02, -7.7798e-02, -1.9196e-02, -1.6602e-02,  6.9705e-02,\n",
              "           6.8073e-03,  1.3799e-02,  5.3537e-02,  7.2362e-02,  2.4081e-03,\n",
              "           2.4617e-02,  4.2460e-03,  5.6569e-02,  1.9690e-02, -7.5258e-02,\n",
              "           1.8069e-02,  6.5313e-03,  5.1037e-02,  8.1957e-03,  8.4656e-02,\n",
              "          -3.1325e-02,  9.0482e-02, -6.7140e-02, -6.1605e-02, -3.8530e-03,\n",
              "          -7.2915e-02,  4.2281e-03, -9.0050e-02, -8.3165e-04, -8.6381e-02,\n",
              "          -5.2830e-02,  6.9177e-02,  6.8730e-02,  1.0457e-02, -6.6711e-02,\n",
              "          -3.3185e-02, -2.4539e-02, -4.1523e-02,  6.4139e-02,  3.9141e-02,\n",
              "           9.1006e-02,  6.9350e-02,  7.2069e-02, -4.6362e-02, -6.5495e-02,\n",
              "          -8.9302e-02,  7.0666e-03,  9.1268e-02,  5.7314e-02, -6.2248e-02,\n",
              "          -5.3283e-02,  8.8562e-02, -1.3857e-02,  2.9070e-02,  4.6997e-02,\n",
              "           8.8232e-02, -2.3564e-02,  6.4333e-02,  9.4409e-02,  4.5014e-02,\n",
              "          -7.8629e-02,  3.1927e-02,  2.0243e-02,  7.9624e-02,  2.7301e-02,\n",
              "          -3.4218e-02,  8.4468e-02,  8.1352e-02, -4.6049e-02, -8.8191e-02,\n",
              "           4.7257e-02,  3.4831e-03, -9.3535e-02,  9.9974e-02, -6.1812e-02,\n",
              "          -4.2740e-02,  9.9150e-02,  6.4264e-02, -4.9357e-02,  2.6388e-03,\n",
              "          -1.1961e-02, -3.6041e-02, -1.8233e-02, -2.5772e-02, -3.8035e-02,\n",
              "          -9.6883e-02,  5.6493e-02, -7.0720e-02, -6.9350e-02, -5.7509e-03,\n",
              "           7.5600e-02, -3.3670e-02,  2.8897e-02, -8.9172e-02, -9.5128e-02,\n",
              "           2.4813e-02, -3.6570e-02,  4.6665e-02,  6.0042e-02, -8.7912e-02],\n",
              "         [-7.6794e-02, -7.1083e-02,  4.8783e-02,  8.4893e-02, -8.9471e-02,\n",
              "           2.6068e-02,  8.9215e-02,  9.5224e-02,  4.0117e-02, -3.1429e-02,\n",
              "           8.7644e-02,  1.8480e-03, -7.6224e-02,  3.0096e-02,  4.2871e-02,\n",
              "           3.1642e-02,  2.9444e-02,  4.8427e-02, -8.7136e-02,  1.4104e-02,\n",
              "          -3.8368e-02, -7.6004e-02, -6.1843e-02,  5.1505e-03, -3.9339e-02,\n",
              "           2.0251e-02, -6.7194e-04,  9.4146e-02,  6.3148e-02, -7.3918e-02,\n",
              "           3.9450e-03, -8.6836e-02, -5.0115e-02, -2.1180e-02,  8.6680e-02,\n",
              "           6.3118e-02,  2.8875e-02, -7.4010e-03, -8.9888e-02,  2.6448e-02,\n",
              "          -7.7128e-02, -1.8059e-02,  5.0017e-02, -9.3675e-02,  7.5798e-03,\n",
              "          -1.7010e-02,  9.7588e-02, -3.9972e-02, -6.5536e-02,  5.6300e-02,\n",
              "           5.4753e-02,  2.0646e-02,  8.9511e-04,  4.2773e-02,  5.3186e-02,\n",
              "          -5.3122e-02,  7.5808e-03,  1.1873e-02,  1.9575e-02, -4.1150e-03,\n",
              "          -4.8835e-03,  4.9829e-02, -3.5417e-02,  5.2446e-02, -2.0884e-02,\n",
              "          -3.8370e-02,  7.1371e-02,  5.1421e-02, -8.0875e-02,  9.1038e-02,\n",
              "           8.9453e-02, -8.6142e-02,  2.3411e-02, -6.5934e-03, -6.9900e-02,\n",
              "          -4.0196e-03,  8.1785e-02, -8.4538e-02, -1.3532e-02, -6.3969e-02,\n",
              "          -4.0729e-02, -7.2189e-02, -8.4969e-02, -5.8523e-02,  2.8172e-02,\n",
              "          -5.4110e-03, -5.5534e-02, -3.2735e-02,  7.4965e-04,  2.0234e-02,\n",
              "          -7.6405e-02,  4.1740e-02, -9.5347e-02,  4.0000e-02, -8.1870e-02,\n",
              "          -6.4243e-02,  2.4855e-03, -1.9312e-02, -3.5352e-02, -6.9018e-02],\n",
              "         [-2.2054e-02, -3.6066e-02, -8.5677e-02,  1.8898e-02, -8.9332e-02,\n",
              "          -7.1365e-02,  8.8132e-02,  5.2017e-02, -8.6381e-02,  7.8921e-02,\n",
              "           3.8183e-02,  7.1699e-02,  8.4087e-02, -5.6263e-02,  8.3614e-02,\n",
              "          -2.9794e-02, -7.2930e-02, -1.0648e-04,  2.9752e-02, -2.1894e-02,\n",
              "          -4.5662e-02, -1.8707e-02,  6.7865e-02, -5.5276e-02,  7.6737e-02,\n",
              "          -4.4506e-02,  5.6304e-03, -5.1245e-02,  6.7751e-02,  4.0449e-02,\n",
              "          -1.8117e-02, -1.7156e-02, -5.2426e-02, -8.1642e-02,  1.8949e-02,\n",
              "           1.4291e-02, -5.6365e-02, -7.4993e-02,  3.4131e-02,  7.3652e-02,\n",
              "          -3.2643e-03,  8.9455e-02,  8.7893e-02, -8.4792e-02, -4.2683e-02,\n",
              "           2.6425e-02,  2.8203e-02,  3.5149e-02, -4.0983e-02, -4.7000e-04,\n",
              "           3.8512e-03,  9.5638e-02, -9.5768e-03, -8.6008e-02, -7.5818e-02,\n",
              "           3.4052e-02, -5.0993e-02, -9.3803e-03, -7.9332e-02,  5.5381e-02,\n",
              "          -9.7526e-02,  5.5539e-02, -5.8084e-02, -2.9580e-03, -3.8616e-02,\n",
              "          -7.3175e-02,  1.1684e-03,  9.2066e-03,  5.4069e-02,  9.5311e-02,\n",
              "           7.8065e-02, -7.4417e-02, -1.5066e-02,  8.0611e-03, -2.2684e-02,\n",
              "           9.3978e-02, -7.7508e-02, -1.3925e-02,  7.4872e-02, -2.6840e-02,\n",
              "          -3.3946e-02, -7.6363e-02,  5.9996e-02, -1.2951e-03, -8.7713e-02,\n",
              "           1.5067e-02, -7.2164e-02,  4.4065e-02, -9.7913e-02, -8.8417e-02,\n",
              "           9.6568e-02,  3.1850e-02, -7.7786e-02,  1.4254e-02, -7.9980e-02,\n",
              "           6.7755e-02,  6.0861e-02, -1.9440e-02,  6.0478e-02, -5.0523e-02],\n",
              "         [ 1.0583e-02,  2.3888e-02, -5.7944e-02, -6.6136e-02, -9.1932e-02,\n",
              "          -5.7912e-02,  9.2660e-02, -1.7293e-02, -4.0111e-02,  4.3546e-02,\n",
              "           8.7751e-02, -3.8007e-02, -4.7111e-02,  6.7878e-02,  4.9400e-02,\n",
              "          -1.5915e-02,  6.6531e-02,  6.8727e-02, -8.0338e-02,  3.5668e-02,\n",
              "           4.4283e-02, -7.4511e-03,  1.5076e-02, -7.5506e-03, -5.6503e-02,\n",
              "          -8.4626e-02,  2.2808e-02,  8.3521e-05,  6.5066e-02,  1.3333e-02,\n",
              "          -3.5150e-02,  5.7957e-02, -1.4171e-02,  9.9183e-02, -5.4771e-02,\n",
              "           3.0337e-02,  6.2064e-02,  3.2008e-02, -9.9376e-02, -2.8321e-02,\n",
              "          -2.5250e-02, -6.8434e-02, -7.6359e-02, -5.6734e-02,  6.9743e-03,\n",
              "           1.8208e-02,  9.1062e-02,  8.0503e-02, -5.3996e-03,  7.5965e-02,\n",
              "          -4.8011e-02,  4.0658e-02,  4.4160e-02, -8.3126e-02, -3.8030e-02,\n",
              "           3.9246e-02, -1.3787e-02,  7.2094e-02, -6.7486e-02,  4.0226e-02,\n",
              "          -7.6708e-03,  7.7709e-02,  9.5649e-02, -7.5204e-02,  1.2125e-02,\n",
              "          -5.0430e-02, -1.4108e-02,  2.2610e-02, -8.5471e-02,  1.9765e-03,\n",
              "          -9.4962e-02, -8.7588e-02, -6.8355e-02,  9.0731e-02,  4.8159e-02,\n",
              "          -9.2177e-03,  6.5415e-02, -6.5566e-02,  4.6425e-02, -5.5439e-02,\n",
              "           6.2693e-02, -4.5033e-03, -4.1198e-02,  5.8674e-02, -5.1260e-03,\n",
              "          -3.2216e-02,  4.3365e-02,  8.9271e-02,  3.8062e-02,  5.1848e-02,\n",
              "           1.3132e-02,  5.9451e-02, -3.1996e-04,  9.3259e-02,  9.1925e-03,\n",
              "          -6.1031e-02, -3.2365e-02,  6.5028e-03, -9.2270e-02,  6.0316e-02]],\n",
              "        device='cuda:0', requires_grad=True), Parameter containing:\n",
              " tensor([-0.0794, -0.0322,  0.0174, -0.0308,  0.0884,  0.0401,  0.0045,  0.0063,\n",
              "          0.0669, -0.0222], device='cuda:0', requires_grad=True)]"
            ]
          },
          "metadata": {
            "tags": []
          },
          "execution_count": 83
        }
      ]
    },
    {
      "cell_type": "code",
      "metadata": {
        "colab_type": "code",
        "id": "00_2j2igpS3o",
        "colab": {}
      },
      "source": [
        "loss = torch.nn.CrossEntropyLoss()\n",
        "optimizer = torch.optim.Adam(mnist_net.parameters(), lr=1.0e-3) # передаем параметры сети, то есть веса для оптимизации"
      ],
      "execution_count": 0,
      "outputs": []
    },
    {
      "cell_type": "code",
      "metadata": {
        "colab_type": "code",
        "id": "wZtqiGvfpS3r",
        "colab": {
          "base_uri": "https://localhost:8080/",
          "height": 1000
        },
        "outputId": "e530064e-1b45-48a8-8be2-90734a031ddd"
      },
      "source": [
        "batch_size = 100\n",
        "\n",
        "test_accuracy_history = []\n",
        "test_loss_history = []\n",
        "\n",
        "X_test = X_test.to(device) # перекладываем входные данные на видюху \n",
        "y_test = y_test.to(device)\n",
        "\n",
        "for epoch in range(10000):\n",
        "    order = np.random.permutation(len(X_train)) # перемещанные индексы трейновых данных\n",
        "    \n",
        "    for start_index in range(0, len(X_train), batch_size):\n",
        "        optimizer.zero_grad()\n",
        "        \n",
        "        batch_indexes = order[start_index:start_index+batch_size]  # перемещанные индексы трейновых данных размера batch_size\n",
        "        \n",
        "        X_batch = X_train[batch_indexes].to(device) # трейновые данные сразу не переводим на видюху, а, соотвественно, только batch, так трейновые могут не влезть \n",
        "        y_batch = y_train[batch_indexes].to(device)\n",
        "        \n",
        "        preds = mnist_net.forward(X_batch) \n",
        "        \n",
        "        loss_value = loss(preds, y_batch)\n",
        "        loss_value.backward()\n",
        "        \n",
        "        optimizer.step()\n",
        "\n",
        "    test_preds = mnist_net.forward(X_test)\n",
        "    test_loss_history.append(loss(test_preds, y_test))\n",
        "    \n",
        "    accuracy = (test_preds.argmax(dim=1) == y_test).float().mean()\n",
        "    test_accuracy_history.append(accuracy)\n",
        "    print(accuracy)"
      ],
      "execution_count": 87,
      "outputs": [
        {
          "output_type": "stream",
          "text": [
            "tensor(0.9075, device='cuda:0')\n",
            "tensor(0.9151, device='cuda:0')\n",
            "tensor(0.9154, device='cuda:0')\n",
            "tensor(0.9182, device='cuda:0')\n",
            "tensor(0.9175, device='cuda:0')\n",
            "tensor(0.9244, device='cuda:0')\n",
            "tensor(0.9258, device='cuda:0')\n",
            "tensor(0.9269, device='cuda:0')\n",
            "tensor(0.9259, device='cuda:0')\n",
            "tensor(0.9294, device='cuda:0')\n",
            "tensor(0.9290, device='cuda:0')\n",
            "tensor(0.9280, device='cuda:0')\n",
            "tensor(0.9345, device='cuda:0')\n",
            "tensor(0.9343, device='cuda:0')\n",
            "tensor(0.9323, device='cuda:0')\n",
            "tensor(0.9359, device='cuda:0')\n",
            "tensor(0.9340, device='cuda:0')\n",
            "tensor(0.9417, device='cuda:0')\n",
            "tensor(0.9354, device='cuda:0')\n",
            "tensor(0.9373, device='cuda:0')\n",
            "tensor(0.9385, device='cuda:0')\n",
            "tensor(0.9395, device='cuda:0')\n",
            "tensor(0.9411, device='cuda:0')\n",
            "tensor(0.9419, device='cuda:0')\n",
            "tensor(0.9436, device='cuda:0')\n",
            "tensor(0.9411, device='cuda:0')\n",
            "tensor(0.9431, device='cuda:0')\n",
            "tensor(0.9468, device='cuda:0')\n",
            "tensor(0.9421, device='cuda:0')\n",
            "tensor(0.9457, device='cuda:0')\n",
            "tensor(0.9442, device='cuda:0')\n",
            "tensor(0.9466, device='cuda:0')\n",
            "tensor(0.9432, device='cuda:0')\n",
            "tensor(0.9422, device='cuda:0')\n",
            "tensor(0.9478, device='cuda:0')\n",
            "tensor(0.9434, device='cuda:0')\n",
            "tensor(0.9413, device='cuda:0')\n",
            "tensor(0.9449, device='cuda:0')\n",
            "tensor(0.9469, device='cuda:0')\n"
          ],
          "name": "stdout"
        },
        {
          "output_type": "error",
          "ename": "KeyboardInterrupt",
          "evalue": "ignored",
          "traceback": [
            "\u001b[0;31m---------------------------------------------------------------------------\u001b[0m",
            "\u001b[0;31mKeyboardInterrupt\u001b[0m                         Traceback (most recent call last)",
            "\u001b[0;32m<ipython-input-87-3dcc90d9bc5c>\u001b[0m in \u001b[0;36m<module>\u001b[0;34m()\u001b[0m\n\u001b[1;32m     18\u001b[0m         \u001b[0my_batch\u001b[0m \u001b[0;34m=\u001b[0m \u001b[0my_train\u001b[0m\u001b[0;34m[\u001b[0m\u001b[0mbatch_indexes\u001b[0m\u001b[0;34m]\u001b[0m\u001b[0;34m.\u001b[0m\u001b[0mto\u001b[0m\u001b[0;34m(\u001b[0m\u001b[0mdevice\u001b[0m\u001b[0;34m)\u001b[0m\u001b[0;34m\u001b[0m\u001b[0;34m\u001b[0m\u001b[0m\n\u001b[1;32m     19\u001b[0m \u001b[0;34m\u001b[0m\u001b[0m\n\u001b[0;32m---> 20\u001b[0;31m         \u001b[0mpreds\u001b[0m \u001b[0;34m=\u001b[0m \u001b[0mmnist_net\u001b[0m\u001b[0;34m.\u001b[0m\u001b[0mforward\u001b[0m\u001b[0;34m(\u001b[0m\u001b[0mX_batch\u001b[0m\u001b[0;34m)\u001b[0m\u001b[0;34m\u001b[0m\u001b[0;34m\u001b[0m\u001b[0m\n\u001b[0m\u001b[1;32m     21\u001b[0m \u001b[0;34m\u001b[0m\u001b[0m\n\u001b[1;32m     22\u001b[0m         \u001b[0mloss_value\u001b[0m \u001b[0;34m=\u001b[0m \u001b[0mloss\u001b[0m\u001b[0;34m(\u001b[0m\u001b[0mpreds\u001b[0m\u001b[0;34m,\u001b[0m \u001b[0my_batch\u001b[0m\u001b[0;34m)\u001b[0m\u001b[0;34m\u001b[0m\u001b[0;34m\u001b[0m\u001b[0m\n",
            "\u001b[0;32m<ipython-input-82-60402616bdc6>\u001b[0m in \u001b[0;36mforward\u001b[0;34m(self, x)\u001b[0m\n\u001b[1;32m      8\u001b[0m     \u001b[0;32mdef\u001b[0m \u001b[0mforward\u001b[0m\u001b[0;34m(\u001b[0m\u001b[0mself\u001b[0m\u001b[0;34m,\u001b[0m \u001b[0mx\u001b[0m\u001b[0;34m)\u001b[0m\u001b[0;34m:\u001b[0m\u001b[0;34m\u001b[0m\u001b[0;34m\u001b[0m\u001b[0m\n\u001b[1;32m      9\u001b[0m         \u001b[0mx\u001b[0m \u001b[0;34m=\u001b[0m \u001b[0mself\u001b[0m\u001b[0;34m.\u001b[0m\u001b[0mfc1\u001b[0m\u001b[0;34m(\u001b[0m\u001b[0mx\u001b[0m\u001b[0;34m)\u001b[0m\u001b[0;34m\u001b[0m\u001b[0;34m\u001b[0m\u001b[0m\n\u001b[0;32m---> 10\u001b[0;31m         \u001b[0mx\u001b[0m \u001b[0;34m=\u001b[0m \u001b[0mself\u001b[0m\u001b[0;34m.\u001b[0m\u001b[0mac1\u001b[0m\u001b[0;34m(\u001b[0m\u001b[0mx\u001b[0m\u001b[0;34m)\u001b[0m\u001b[0;34m\u001b[0m\u001b[0;34m\u001b[0m\u001b[0m\n\u001b[0m\u001b[1;32m     11\u001b[0m         \u001b[0mx\u001b[0m \u001b[0;34m=\u001b[0m \u001b[0mself\u001b[0m\u001b[0;34m.\u001b[0m\u001b[0mfc2\u001b[0m\u001b[0;34m(\u001b[0m\u001b[0mx\u001b[0m\u001b[0;34m)\u001b[0m\u001b[0;34m\u001b[0m\u001b[0;34m\u001b[0m\u001b[0m\n\u001b[1;32m     12\u001b[0m         \u001b[0;32mreturn\u001b[0m \u001b[0mx\u001b[0m\u001b[0;34m\u001b[0m\u001b[0;34m\u001b[0m\u001b[0m\n",
            "\u001b[0;32m/usr/local/lib/python3.6/dist-packages/torch/nn/modules/module.py\u001b[0m in \u001b[0;36m__call__\u001b[0;34m(self, *input, **kwargs)\u001b[0m\n\u001b[1;32m    491\u001b[0m             \u001b[0mresult\u001b[0m \u001b[0;34m=\u001b[0m \u001b[0mself\u001b[0m\u001b[0;34m.\u001b[0m\u001b[0m_slow_forward\u001b[0m\u001b[0;34m(\u001b[0m\u001b[0;34m*\u001b[0m\u001b[0minput\u001b[0m\u001b[0;34m,\u001b[0m \u001b[0;34m**\u001b[0m\u001b[0mkwargs\u001b[0m\u001b[0;34m)\u001b[0m\u001b[0;34m\u001b[0m\u001b[0;34m\u001b[0m\u001b[0m\n\u001b[1;32m    492\u001b[0m         \u001b[0;32melse\u001b[0m\u001b[0;34m:\u001b[0m\u001b[0;34m\u001b[0m\u001b[0;34m\u001b[0m\u001b[0m\n\u001b[0;32m--> 493\u001b[0;31m             \u001b[0mresult\u001b[0m \u001b[0;34m=\u001b[0m \u001b[0mself\u001b[0m\u001b[0;34m.\u001b[0m\u001b[0mforward\u001b[0m\u001b[0;34m(\u001b[0m\u001b[0;34m*\u001b[0m\u001b[0minput\u001b[0m\u001b[0;34m,\u001b[0m \u001b[0;34m**\u001b[0m\u001b[0mkwargs\u001b[0m\u001b[0;34m)\u001b[0m\u001b[0;34m\u001b[0m\u001b[0;34m\u001b[0m\u001b[0m\n\u001b[0m\u001b[1;32m    494\u001b[0m         \u001b[0;32mfor\u001b[0m \u001b[0mhook\u001b[0m \u001b[0;32min\u001b[0m \u001b[0mself\u001b[0m\u001b[0;34m.\u001b[0m\u001b[0m_forward_hooks\u001b[0m\u001b[0;34m.\u001b[0m\u001b[0mvalues\u001b[0m\u001b[0;34m(\u001b[0m\u001b[0;34m)\u001b[0m\u001b[0;34m:\u001b[0m\u001b[0;34m\u001b[0m\u001b[0;34m\u001b[0m\u001b[0m\n\u001b[1;32m    495\u001b[0m             \u001b[0mhook_result\u001b[0m \u001b[0;34m=\u001b[0m \u001b[0mhook\u001b[0m\u001b[0;34m(\u001b[0m\u001b[0mself\u001b[0m\u001b[0;34m,\u001b[0m \u001b[0minput\u001b[0m\u001b[0;34m,\u001b[0m \u001b[0mresult\u001b[0m\u001b[0;34m)\u001b[0m\u001b[0;34m\u001b[0m\u001b[0;34m\u001b[0m\u001b[0m\n",
            "\u001b[0;32m/usr/local/lib/python3.6/dist-packages/torch/nn/modules/activation.py\u001b[0m in \u001b[0;36mforward\u001b[0;34m(self, input)\u001b[0m\n\u001b[1;32m    281\u001b[0m     \u001b[0;34m@\u001b[0m\u001b[0mweak_script_method\u001b[0m\u001b[0;34m\u001b[0m\u001b[0;34m\u001b[0m\u001b[0m\n\u001b[1;32m    282\u001b[0m     \u001b[0;32mdef\u001b[0m \u001b[0mforward\u001b[0m\u001b[0;34m(\u001b[0m\u001b[0mself\u001b[0m\u001b[0;34m,\u001b[0m \u001b[0minput\u001b[0m\u001b[0;34m)\u001b[0m\u001b[0;34m:\u001b[0m\u001b[0;34m\u001b[0m\u001b[0;34m\u001b[0m\u001b[0m\n\u001b[0;32m--> 283\u001b[0;31m         \u001b[0;32mreturn\u001b[0m \u001b[0mtorch\u001b[0m\u001b[0;34m.\u001b[0m\u001b[0msigmoid\u001b[0m\u001b[0;34m(\u001b[0m\u001b[0minput\u001b[0m\u001b[0;34m)\u001b[0m\u001b[0;34m\u001b[0m\u001b[0;34m\u001b[0m\u001b[0m\n\u001b[0m\u001b[1;32m    284\u001b[0m \u001b[0;34m\u001b[0m\u001b[0m\n\u001b[1;32m    285\u001b[0m \u001b[0;34m\u001b[0m\u001b[0m\n",
            "\u001b[0;31mKeyboardInterrupt\u001b[0m: "
          ]
        }
      ]
    },
    {
      "cell_type": "code",
      "metadata": {
        "colab_type": "code",
        "id": "kLnumX3SpS3u",
        "colab": {
          "base_uri": "https://localhost:8080/",
          "height": 269
        },
        "outputId": "301ee15e-25f7-43ad-9f0c-cabe62a6c33c"
      },
      "source": [
        "plt.plot(test_accuracy_history)\n",
        "plt.plot(test_loss_history);"
      ],
      "execution_count": 88,
      "outputs": [
        {
          "output_type": "display_data",
          "data": {
            "image/png": "[encoded data removed]",
            "text/plain": [
              "<Figure size 432x288 with 1 Axes>"
            ]
          },
          "metadata": {
            "tags": []
          }
        }
      ]
    },
    {
      "cell_type": "code",
      "metadata": {
        "colab_type": "code",
        "id": "-nu1318JpS3y",
        "colab": {}
      },
      "source": [
        ""
      ],
      "execution_count": 0,
      "outputs": []
    }
  ]
}